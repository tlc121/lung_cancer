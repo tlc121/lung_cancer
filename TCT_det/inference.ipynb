{
 "cells": [
  {
   "cell_type": "code",
   "execution_count": 1,
   "metadata": {},
   "outputs": [],
   "source": [
    "import tensorflow as tf\n",
    "from tensorflow.python.platform import gfile\n",
    "import os\n",
    "os.environ['CUDA_VISIBLE_DEVICES'] = '6'\n",
    "import numpy as np\n",
    "import torch\n",
    "import cv2\n",
    "from tqdm import tqdm_notebook\n",
    "import matplotlib.pyplot as plt\n",
    "data_path_500 = '/hdd/sd8/tlc/TCT/all_data/500_neg_416/'\n",
    "data_path_270 = '/hdd/sd8/tlc/TCT/all_data/20190717/'\n",
    "excel_label = '/home/yuyue/yuyue/MIL_TCT/MIL_pytorch/excel/500_label.csv'\n",
    "negative_uid = '/hdd/sd2/data/TCT/densenet/data/500_data/val_500_neg.pth'"
   ]
  },
  {
   "cell_type": "code",
   "execution_count": 6,
   "metadata": {},
   "outputs": [],
   "source": [
    "def inference(image):\n",
    "    with tf.Graph().as_default() as graph:\n",
    "        with tf.Session(graph=graph) as sess:\n",
    "            tf.global_variables_initializer().run()\n",
    "            with gfile.FastGFile('/hdd/sd8/tlc/TCT/Model_pb/yolov3_test_loss=13.8747.ckpt.pb', 'rb') as f:\n",
    "                graph_def = tf.GraphDef()\n",
    "                graph_def.ParseFromString(f.read())\n",
    "                tf.import_graph_def(graph_def, name='') # 导入计算图\n",
    "                input_ = sess.graph.get_tensor_by_name('input_data:0')\n",
    "                #trainable = sess.graph.get_tensor_by_name('training:0')\n",
    "                op_sbbox = sess.graph.get_tensor_by_name('pred_sbbox/op_to_store:0')\n",
    "                op_mbbox = sess.graph.get_tensor_by_name('pred_mbbox/op_to_store:0')\n",
    "                op_lbbox = sess.graph.get_tensor_by_name('pred_lbbox/op_to_store:0')\n",
    "                ret_sbbox, ret_mbbox, ret_lbbox= sess.run([op_sbbox,op_mbbox,op_lbbox], feed_dict={input_:image})\n",
    "                return ret_sbbox, ret_mbbox, ret_lbbox\n",
    "            \n",
    "def img_resize(image, target_size):\n",
    "    ih, iw    = target_size\n",
    "    h,  w, _  = image.shape\n",
    "\n",
    "    scale = min(float(iw)/w, float(ih)/h)\n",
    "    nw, nh  = int(scale * w), int(scale * h)\n",
    "    try:\n",
    "        image_resized = cv2.resize(image, (nw, nh), interpolation=1)\n",
    "    except Exception as e:\n",
    "        print (str(e))\n",
    "        \n",
    "    image_paded = np.full(shape=[ih, iw, 3], fill_value=128.0)\n",
    "    dw, dh = (iw - nw) // 2, (ih-nh) // 2\n",
    "    image_paded[dh:nh+dh, dw:nw+dw, :] = image_resized\n",
    "    return image_paded\n",
    "\n",
    "def postprocess_boxes(pred_bbox, org_img_shape, input_size, score_threshold):\n",
    "    valid_scale=[0, np.inf]\n",
    "    \n",
    "    pred_bbox = np.array(pred_bbox)\n",
    "    #print (pred_bbox.shape)\n",
    "    pred_xywh = pred_bbox[:, 0:4]\n",
    "    pred_conf = pred_bbox[:, 4]\n",
    "    pred_prob = pred_bbox[:, 5:]\n",
    "    # # (1) (x, y, w, h) --> (xmin, ymin, xmax, ymax)\n",
    "    pred_coor = np.concatenate([pred_xywh[:, :2] - pred_xywh[:, 2:] * 0.5,\n",
    "                                pred_xywh[:, :2] + pred_xywh[:, 2:] * 0.5], axis=-1)\n",
    "    # # (2) (xmin, ymin, xmax, ymax) -> (xmin_org, ymin_org, xmax_org, ymax_org)\n",
    "    org_h, org_w = org_img_shape\n",
    "    resize_ratio = min(float(input_size) / org_w, float(input_size) / org_h)\n",
    "\n",
    "    dw = (input_size - resize_ratio * org_w) / 2\n",
    "    dh = (input_size - resize_ratio * org_h) / 2\n",
    "\n",
    "    pred_coor[:, 0::2] = 1.0 * (pred_coor[:, 0::2] - dw) / resize_ratio\n",
    "    pred_coor[:, 1::2] = 1.0 * (pred_coor[:, 1::2] - dh) / resize_ratio\n",
    "\n",
    "    # # (3) clip some boxes those are out of range\n",
    "    pred_coor = np.concatenate([np.maximum(pred_coor[:, :2], [0, 0]),\n",
    "                                np.minimum(pred_coor[:, 2:], [org_w - 1, org_h - 1])], axis=-1)\n",
    "    invalid_mask = np.logical_or((pred_coor[:, 0] > pred_coor[:, 2]), (pred_coor[:, 1] > pred_coor[:, 3]))\n",
    "    pred_coor[invalid_mask] = 0\n",
    "    \n",
    "\n",
    "    # # (4) discard some invalid boxes\n",
    "    bboxes_scale = np.sqrt(np.multiply.reduce(pred_coor[:, 2:4] - pred_coor[:, 0:2], axis=-1))\n",
    "    scale_mask = np.logical_and((valid_scale[0] < bboxes_scale), (bboxes_scale < valid_scale[1]))\n",
    "    #print np.where(scale_mask is True)\n",
    "\n",
    "    # # (5) discard some boxes with low scores\n",
    "    classes = np.argmax(pred_prob, axis=-1)\n",
    "    scores = pred_conf * pred_prob[np.arange(len(pred_coor)), classes]\n",
    "    #print (np.max(scores))\n",
    "    score_mask = scores > score_threshold\n",
    "    #print np.sum(score_mask)\n",
    "    mask = np.logical_and(scale_mask, score_mask)\n",
    "    coors, scores, classes = pred_coor[mask], scores[mask], classes[mask]\n",
    "\n",
    "    return np.concatenate([coors, scores[:, np.newaxis], classes[:, np.newaxis]], axis=-1)\n",
    "\n",
    "def bboxes_iou(boxes1, boxes2):\n",
    "\n",
    "    boxes1 = np.array(boxes1)\n",
    "    boxes2 = np.array(boxes2)\n",
    "\n",
    "    boxes1_area = (boxes1[..., 2] - boxes1[..., 0]) * (boxes1[..., 3] - boxes1[..., 1])\n",
    "    boxes2_area = (boxes2[..., 2] - boxes2[..., 0]) * (boxes2[..., 3] - boxes2[..., 1])\n",
    "\n",
    "    left_up       = np.maximum(boxes1[..., :2], boxes2[..., :2])\n",
    "    right_down    = np.minimum(boxes1[..., 2:], boxes2[..., 2:])\n",
    "\n",
    "    inter_section = np.maximum(right_down - left_up, 0.0)\n",
    "    inter_area    = inter_section[..., 0] * inter_section[..., 1]\n",
    "    union_area    = boxes1_area + boxes2_area - inter_area\n",
    "    ious          = np.maximum(1.0 * inter_area / union_area, np.finfo(np.float32).eps)\n",
    "\n",
    "    return ious\n",
    "\n",
    "def nms(bboxes, iou_threshold, sigma=0.3, method='nms'):\n",
    "    \"\"\"\n",
    "    :param bboxes: (xmin, ymin, xmax, ymax, score, class)\n",
    "\n",
    "    Note: soft-nms, https://arxiv.org/pdf/1704.04503.pdf\n",
    "          https://github.com/bharatsingh430/soft-nms\n",
    "    \"\"\"\n",
    "    classes_in_img = list(set(bboxes[:, 5]))\n",
    "    best_bboxes = []\n",
    "\n",
    "    for cls in classes_in_img:\n",
    "        cls_mask = (bboxes[:, 5] == cls)\n",
    "        cls_bboxes = bboxes[cls_mask]\n",
    "\n",
    "        while len(cls_bboxes) > 0:\n",
    "            max_ind = np.argmax(cls_bboxes[:, 4])\n",
    "            best_bbox = cls_bboxes[max_ind]\n",
    "            best_bboxes.append(best_bbox)\n",
    "            cls_bboxes = np.concatenate([cls_bboxes[: max_ind], cls_bboxes[max_ind + 1:]])\n",
    "            iou = bboxes_iou(best_bbox[np.newaxis, :4], cls_bboxes[:, :4])\n",
    "            weight = np.ones((len(iou),), dtype=np.float32)\n",
    "\n",
    "            assert method in ['nms', 'soft-nms']\n",
    "            if method == 'nms':\n",
    "                iou_mask = iou > iou_threshold\n",
    "                weight[iou_mask] = 0.0\n",
    "\n",
    "            if method == 'soft-nms':\n",
    "                weight = np.exp(-(1.0 * iou ** 2 / sigma))\n",
    "\n",
    "            cls_bboxes[:, 4] = cls_bboxes[:, 4] * weight\n",
    "            score_mask = cls_bboxes[:, 4] > 0.\n",
    "            cls_bboxes = cls_bboxes[score_mask]\n",
    "\n",
    "    return best_bboxes"
   ]
  },
  {
   "cell_type": "code",
   "execution_count": 7,
   "metadata": {},
   "outputs": [
    {
     "data": {
      "application/vnd.jupyter.widget-view+json": {
       "model_id": "68843f01aec9482f8c46176f7b2c8085",
       "version_major": 2,
       "version_minor": 0
      },
      "text/plain": [
       "HBox(children=(IntProgress(value=0, max=73), HTML(value=u'')))"
      ]
     },
     "metadata": {},
     "output_type": "display_data"
    },
    {
     "name": "stdout",
     "output_type": "stream",
     "text": [
      "\n"
     ]
    }
   ],
   "source": [
    "uid_list = torch.load(negative_uid)\n",
    "map_type = {}\n",
    "with tf.Graph().as_default() as graph:\n",
    "    with tf.Session(graph=graph) as sess:\n",
    "        tf.global_variables_initializer().run()\n",
    "        with gfile.FastGFile('/hdd/sd8/tlc/TCT/Model_pb/yolov3_test_loss=13.8747.ckpt.pb', 'rb') as f:\n",
    "            graph_def = tf.GraphDef()\n",
    "            graph_def.ParseFromString(f.read())\n",
    "            tf.import_graph_def(graph_def, name='') # 导入计算图\n",
    "            input_ = sess.graph.get_tensor_by_name('input_data:0')\n",
    "            #trainable = sess.graph.get_tensor_by_name('training:0')\n",
    "            op_sbbox = sess.graph.get_tensor_by_name('pred_sbbox/op_to_store:0')\n",
    "            op_mbbox = sess.graph.get_tensor_by_name('pred_mbbox/op_to_store:0')\n",
    "            op_lbbox = sess.graph.get_tensor_by_name('pred_lbbox/op_to_store:0')\n",
    "            for uid in tqdm_notebook(uid_list):\n",
    "                folder_path = os.path.join(data_path_500, uid)\n",
    "                for img in os.listdir(folder_path):\n",
    "                    img_path = os.path.join(folder_path, img)\n",
    "                    image = cv2.imread(img_path)\n",
    "                    #image = img_resize(ori_image, (416,416))\n",
    "                    image = image/255.\n",
    "                    input_image = image[np.newaxis, :, :, :]\n",
    "                    pred_sbbox, pred_mbbox, pred_lbbox= sess.run([op_sbbox,op_mbbox,op_lbbox], feed_dict={input_:input_image})\n",
    "                    pred_bbox = np.concatenate([np.reshape(pred_sbbox, (-1, 5 + 8)),\n",
    "                                                 np.reshape(pred_mbbox, (-1, 5 + 8)),\n",
    "                                                 np.reshape(pred_lbbox, (-1, 5 + 8))], axis=0)\n",
    "\n",
    "                    bboxes = postprocess_boxes(pred_bbox, (ori_image.shape[0], ori_image.shape[1]), 416, 0.7)\n",
    "                    bboxes = nms(bboxes, 0.3)\n",
    "                    for bbox in bboxes:\n",
    "                        coor = np.array(bbox[:4], dtype=np.int32)\n",
    "                        score = bbox[4]\n",
    "                        type_ = bbox[5]\n",
    "                        if type_ not in map_type:\n",
    "                            map_type[type_] = 1\n",
    "                        else:\n",
    "                            map_type[type_] += 1\n",
    "            "
   ]
  },
  {
   "cell_type": "code",
   "execution_count": 8,
   "metadata": {},
   "outputs": [
    {
     "data": {
      "text/plain": [
       "{0.0: 178, 1.0: 1, 2.0: 44, 3.0: 7, 4.0: 1}"
      ]
     },
     "execution_count": 8,
     "metadata": {},
     "output_type": "execute_result"
    }
   ],
   "source": [
    "map_type"
   ]
  },
  {
   "cell_type": "code",
   "execution_count": 3,
   "metadata": {},
   "outputs": [
    {
     "data": {
      "application/vnd.jupyter.widget-view+json": {
       "model_id": "8a06782b1c9646759eaa159b5ec2e033",
       "version_major": 2,
       "version_minor": 0
      },
      "text/plain": [
       "HBox(children=(IntProgress(value=0, max=73), HTML(value=u'')))"
      ]
     },
     "metadata": {},
     "output_type": "display_data"
    },
    {
     "name": "stdout",
     "output_type": "stream",
     "text": [
      "\n"
     ]
    }
   ],
   "source": [
    "uid_list = torch.load(negative_uid)\n",
    "save_path = '/hdd/sd8/tlc/TCT/all_data/500_neg_416/'\n",
    "for uid in tqdm_notebook(uid_list):\n",
    "    new_dir = os.path.join(save_path, uid)\n",
    "    folder_path = os.path.join(data_path_500, uid)\n",
    "    os.mkdir(new_dir)\n",
    "    for img in os.listdir(folder_path):\n",
    "        img_path = os.path.join(folder_path, img)\n",
    "        image = cv2.imread(img_path)\n",
    "        save_dir = os.path.join(new_dir, img)\n",
    "        image = img_resize(image, (416,416))\n",
    "        cv2.imwrite(save_dir, image)"
   ]
  },
  {
   "cell_type": "code",
   "execution_count": null,
   "metadata": {},
   "outputs": [],
   "source": []
  }
 ],
 "metadata": {
  "kernelspec": {
   "display_name": "py2",
   "language": "python",
   "name": "py2"
  },
  "language_info": {
   "codemirror_mode": {
    "name": "ipython",
    "version": 2
   },
   "file_extension": ".py",
   "mimetype": "text/x-python",
   "name": "python",
   "nbconvert_exporter": "python",
   "pygments_lexer": "ipython2",
   "version": "2.7.17"
  }
 },
 "nbformat": 4,
 "nbformat_minor": 2
}
