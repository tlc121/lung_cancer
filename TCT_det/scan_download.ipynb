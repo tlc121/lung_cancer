{
 "cells": [
  {
   "cell_type": "code",
   "execution_count": 4,
   "metadata": {},
   "outputs": [],
   "source": [
    "import cv2\n",
    "import shutil\n",
    "import os\n",
    "import sys\n",
    "import matplotlib.pyplot as plt\n",
    "from glob import glob"
   ]
  },
  {
   "cell_type": "code",
   "execution_count": 6,
   "metadata": {},
   "outputs": [],
   "source": [
    "data_path = '/ssd/TCT_img/'\n",
    "dst_path  = '/hdd/sd5/tlc/scan_area/zjzhongliu/'\n",
    "for folder_1 in os.listdir(data_path):\n",
    "    folder_path_1 = os.path.join(data_path, folder_1)\n",
    "    for folder_2 in os.listdir(folder_path_1):\n",
    "        folder_path_2 = os.path.join(folder_path_1, folder_2)\n",
    "        for preview_path in glob(folder_path_2 + '/*.JPG'):\n",
    "            shutil.copy(preview_path, dst_path)\n",
    "#             plt.imshow(cv2.imread(preview_path))\n",
    "#             plt.show()"
   ]
  },
  {
   "cell_type": "code",
   "execution_count": null,
   "metadata": {},
   "outputs": [],
   "source": []
  }
 ],
 "metadata": {
  "kernelspec": {
   "display_name": "Python2",
   "language": "python",
   "name": "py2"
  },
  "language_info": {
   "codemirror_mode": {
    "name": "ipython",
    "version": 2
   },
   "file_extension": ".py",
   "mimetype": "text/x-python",
   "name": "python",
   "nbconvert_exporter": "python",
   "pygments_lexer": "ipython2",
   "version": "2.7.17"
  }
 },
 "nbformat": 4,
 "nbformat_minor": 2
}
