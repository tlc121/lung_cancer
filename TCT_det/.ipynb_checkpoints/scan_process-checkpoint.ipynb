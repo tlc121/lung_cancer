{
 "cells": [
  {
   "cell_type": "code",
   "execution_count": 1,
   "metadata": {},
   "outputs": [],
   "source": [
    "import pandas as pd\n",
    "import numpy as np\n",
    "import os\n",
    "import cv2\n",
    "import matplotlib.pyplot as plt"
   ]
  },
  {
   "cell_type": "code",
   "execution_count": 16,
   "metadata": {},
   "outputs": [],
   "source": [
    "df_changhai = pd.read_excel('/home/tanglc/TCT_annotations/长海扫描区域标注.xlsx')\n",
    "df_shiyi = pd.read_excel('/home/tanglc/TCT_annotations/市一扫描区域标注.xlsx')\n",
    "data_shiyi = '/hdd/sd8/tlc/scan_area/shiyi/'\n",
    "data_changhai = '/hdd/sd8/tlc/scan_area/changhai/'"
   ]
  },
  {
   "cell_type": "code",
   "execution_count": 17,
   "metadata": {},
   "outputs": [
    {
     "data": {
      "text/html": [
       "<div>\n",
       "<style scoped>\n",
       "    .dataframe tbody tr th:only-of-type {\n",
       "        vertical-align: middle;\n",
       "    }\n",
       "\n",
       "    .dataframe tbody tr th {\n",
       "        vertical-align: top;\n",
       "    }\n",
       "\n",
       "    .dataframe thead th {\n",
       "        text-align: right;\n",
       "    }\n",
       "</style>\n",
       "<table border=\"1\" class=\"dataframe\">\n",
       "  <thead>\n",
       "    <tr style=\"text-align: right;\">\n",
       "      <th></th>\n",
       "      <th>uid</th>\n",
       "      <th>folder_name</th>\n",
       "      <th>Unnamed: 2</th>\n",
       "    </tr>\n",
       "  </thead>\n",
       "  <tbody>\n",
       "    <tr>\n",
       "      <th>0</th>\n",
       "      <td>b1069c08ea286056dac666af54e3019169d2bb2e</td>\n",
       "      <td>2019-12-10-164415#2-1</td>\n",
       "      <td>\"xmin\":343,\"ymin\":51,\"xmax\":822,\"ymax\":523</td>\n",
       "    </tr>\n",
       "    <tr>\n",
       "      <th>1</th>\n",
       "      <td>57f3ce876a85dc16788100d438baaf8869bbc781</td>\n",
       "      <td>2019-12-10-164042#1-1</td>\n",
       "      <td>\"xmin\":303,\"ymin\":31,\"xmax\":785,\"ymax\":508</td>\n",
       "    </tr>\n",
       "    <tr>\n",
       "      <th>2</th>\n",
       "      <td>90707d3d93ee3705f6ce07a9239cb1cda6fdc3b1</td>\n",
       "      <td>2019-12-10-163513#4-1</td>\n",
       "      <td>\"xmin\":350,\"ymin\":55,\"xmax\":831,\"ymax\":525</td>\n",
       "    </tr>\n",
       "    <tr>\n",
       "      <th>3</th>\n",
       "      <td>e73b7c05d671f43400d09b2804eb23d1dff02fc4</td>\n",
       "      <td>2019-12-10-163130#3-1</td>\n",
       "      <td>\"xmin\":299,\"ymin\":35,\"xmax\":784,\"ymax\":515</td>\n",
       "    </tr>\n",
       "    <tr>\n",
       "      <th>4</th>\n",
       "      <td>9847d307f293f348b3b11dc915dce2f6382d620d</td>\n",
       "      <td>2019-12-10-162758#2-1</td>\n",
       "      <td>\"xmin\":339,\"ymin\":46,\"xmax\":818,\"ymax\":521</td>\n",
       "    </tr>\n",
       "  </tbody>\n",
       "</table>\n",
       "</div>"
      ],
      "text/plain": [
       "                                        uid            folder_name  \\\n",
       "0  b1069c08ea286056dac666af54e3019169d2bb2e  2019-12-10-164415#2-1   \n",
       "1  57f3ce876a85dc16788100d438baaf8869bbc781  2019-12-10-164042#1-1   \n",
       "2  90707d3d93ee3705f6ce07a9239cb1cda6fdc3b1  2019-12-10-163513#4-1   \n",
       "3  e73b7c05d671f43400d09b2804eb23d1dff02fc4  2019-12-10-163130#3-1   \n",
       "4  9847d307f293f348b3b11dc915dce2f6382d620d  2019-12-10-162758#2-1   \n",
       "\n",
       "                                   Unnamed: 2  \n",
       "0  \"xmin\":343,\"ymin\":51,\"xmax\":822,\"ymax\":523  \n",
       "1  \"xmin\":303,\"ymin\":31,\"xmax\":785,\"ymax\":508  \n",
       "2  \"xmin\":350,\"ymin\":55,\"xmax\":831,\"ymax\":525  \n",
       "3  \"xmin\":299,\"ymin\":35,\"xmax\":784,\"ymax\":515  \n",
       "4  \"xmin\":339,\"ymin\":46,\"xmax\":818,\"ymax\":521  "
      ]
     },
     "execution_count": 17,
     "metadata": {},
     "output_type": "execute_result"
    }
   ],
   "source": [
    "df_shiyi.head()"
   ]
  },
  {
   "cell_type": "code",
   "execution_count": 18,
   "metadata": {},
   "outputs": [
    {
     "data": {
      "text/html": [
       "<div>\n",
       "<style scoped>\n",
       "    .dataframe tbody tr th:only-of-type {\n",
       "        vertical-align: middle;\n",
       "    }\n",
       "\n",
       "    .dataframe tbody tr th {\n",
       "        vertical-align: top;\n",
       "    }\n",
       "\n",
       "    .dataframe thead th {\n",
       "        text-align: right;\n",
       "    }\n",
       "</style>\n",
       "<table border=\"1\" class=\"dataframe\">\n",
       "  <thead>\n",
       "    <tr style=\"text-align: right;\">\n",
       "      <th></th>\n",
       "      <th>文件名</th>\n",
       "      <th>Unnamed: 1</th>\n",
       "      <th>序列号</th>\n",
       "      <th>Unnamed: 3</th>\n",
       "    </tr>\n",
       "  </thead>\n",
       "  <tbody>\n",
       "    <tr>\n",
       "      <th>0</th>\n",
       "      <td>1909485_LSIL</td>\n",
       "      <td>2019-12-16-153451#1-1</td>\n",
       "      <td>48bd4c0f4e7c218731d14b97a8644099d7037173</td>\n",
       "      <td>\"xmin\":263,\"ymin\":91,\"xmax\":635,\"ymax\":450</td>\n",
       "    </tr>\n",
       "    <tr>\n",
       "      <th>1</th>\n",
       "      <td>1909626_ASCUS</td>\n",
       "      <td>2019-12-16-162844#2-1</td>\n",
       "      <td>fa42c91d6b2df97dac71ad3a7379dfeb8cbb2112</td>\n",
       "      <td>\"xmin\":270,\"ymin\":78,\"xmax\":643,\"ymax\":452</td>\n",
       "    </tr>\n",
       "    <tr>\n",
       "      <th>2</th>\n",
       "      <td>1909644_LSIL</td>\n",
       "      <td>2019-12-16-162620#1-1</td>\n",
       "      <td>b629801ec0bad932b9adb69a98385b6b7d3a0af2</td>\n",
       "      <td>\"xmin\":271,\"ymin\":95,\"xmax\":644,\"ymax\":449</td>\n",
       "    </tr>\n",
       "    <tr>\n",
       "      <th>3</th>\n",
       "      <td>1909693_ASCUS</td>\n",
       "      <td>2019-12-16-160239#3-1</td>\n",
       "      <td>4a7668fed620159bace20c8b24be9cfd4a61a02a</td>\n",
       "      <td>\"xmin\":267,\"ymin\":76,\"xmax\":656,\"ymax\":455</td>\n",
       "    </tr>\n",
       "    <tr>\n",
       "      <th>4</th>\n",
       "      <td>T19-14151_LSIL</td>\n",
       "      <td>2019-12-16-160009#2-1</td>\n",
       "      <td>d6f1796429bfe185f4dcd8d599ad7d3258f01bde</td>\n",
       "      <td>\"xmin\":281,\"ymin\":83,\"xmax\":659,\"ymax\":455</td>\n",
       "    </tr>\n",
       "  </tbody>\n",
       "</table>\n",
       "</div>"
      ],
      "text/plain": [
       "              文件名             Unnamed: 1  \\\n",
       "0    1909485_LSIL  2019-12-16-153451#1-1   \n",
       "1   1909626_ASCUS  2019-12-16-162844#2-1   \n",
       "2    1909644_LSIL  2019-12-16-162620#1-1   \n",
       "3   1909693_ASCUS  2019-12-16-160239#3-1   \n",
       "4  T19-14151_LSIL  2019-12-16-160009#2-1   \n",
       "\n",
       "                                        序列号  \\\n",
       "0  48bd4c0f4e7c218731d14b97a8644099d7037173   \n",
       "1  fa42c91d6b2df97dac71ad3a7379dfeb8cbb2112   \n",
       "2  b629801ec0bad932b9adb69a98385b6b7d3a0af2   \n",
       "3  4a7668fed620159bace20c8b24be9cfd4a61a02a   \n",
       "4  d6f1796429bfe185f4dcd8d599ad7d3258f01bde   \n",
       "\n",
       "                                   Unnamed: 3  \n",
       "0  \"xmin\":263,\"ymin\":91,\"xmax\":635,\"ymax\":450  \n",
       "1  \"xmin\":270,\"ymin\":78,\"xmax\":643,\"ymax\":452  \n",
       "2  \"xmin\":271,\"ymin\":95,\"xmax\":644,\"ymax\":449  \n",
       "3  \"xmin\":267,\"ymin\":76,\"xmax\":656,\"ymax\":455  \n",
       "4  \"xmin\":281,\"ymin\":83,\"xmax\":659,\"ymax\":455  "
      ]
     },
     "execution_count": 18,
     "metadata": {},
     "output_type": "execute_result"
    }
   ],
   "source": [
    "df_changhai.head()"
   ]
  },
  {
   "cell_type": "code",
   "execution_count": 19,
   "metadata": {},
   "outputs": [],
   "source": [
    "annotations = []\n",
    "for i in range(len(df_shiyi)):\n",
    "    folder_name = df_shiyi['folder_name'].iloc[i]\n",
    "    bboxes = df_shiyi['Unnamed: 2'].iloc[i]\n",
    "    xmin = int(bboxes.split(':')[1].split(',')[0])\n",
    "    ymin = int(bboxes.split(':')[2].split(',')[0])\n",
    "    xmax = int(bboxes.split(':')[3].split(',')[0])\n",
    "    ymax = int(bboxes.split(':')[4].split(',')[0])\n",
    "    img_path = data_shiyi + folder_name + '/e_output.JPG'\n",
    "    str_ = img_path + ' '  + str(xmin) + ',' + str(ymin) + ',' + str(xmax) + ',' + str(ymax) + ',' + '0' + '\\n'\n",
    "    annotations.append(str_)"
   ]
  },
  {
   "cell_type": "code",
   "execution_count": 20,
   "metadata": {},
   "outputs": [
    {
     "data": {
      "text/plain": [
       "[u'/hdd/sd8/tlc/scan_area/shiyi/2019-12-10-164415#2-1/e_output.JPG 343,51,822,523\\n',\n",
       " u'/hdd/sd8/tlc/scan_area/shiyi/2019-12-10-164042#1-1/e_output.JPG 303,31,785,508\\n',\n",
       " u'/hdd/sd8/tlc/scan_area/shiyi/2019-12-10-163513#4-1/e_output.JPG 350,55,831,525\\n',\n",
       " u'/hdd/sd8/tlc/scan_area/shiyi/2019-12-10-163130#3-1/e_output.JPG 299,35,784,515\\n',\n",
       " u'/hdd/sd8/tlc/scan_area/shiyi/2019-12-10-162758#2-1/e_output.JPG 339,46,818,521\\n',\n",
       " u'/hdd/sd8/tlc/scan_area/shiyi/2019-12-10-161104#4-1/e_output.JPG 357,46,827,521\\n',\n",
       " u'/hdd/sd8/tlc/scan_area/shiyi/2019-12-10-155918#3-1/e_output.JPG 305,35,780,512\\n',\n",
       " u'/hdd/sd8/tlc/scan_area/shiyi/2019-12-10-160441#1-1/e_output.JPG 300,34,775,504\\n']"
      ]
     },
     "execution_count": 20,
     "metadata": {},
     "output_type": "execute_result"
    }
   ],
   "source": [
    "annotations"
   ]
  },
  {
   "cell_type": "code",
   "execution_count": null,
   "metadata": {},
   "outputs": [],
   "source": []
  }
 ],
 "metadata": {
  "kernelspec": {
   "display_name": "py2",
   "language": "python",
   "name": "py2"
  },
  "language_info": {
   "codemirror_mode": {
    "name": "ipython",
    "version": 2
   },
   "file_extension": ".py",
   "mimetype": "text/x-python",
   "name": "python",
   "nbconvert_exporter": "python",
   "pygments_lexer": "ipython2",
   "version": "2.7.17"
  }
 },
 "nbformat": 4,
 "nbformat_minor": 2
}
